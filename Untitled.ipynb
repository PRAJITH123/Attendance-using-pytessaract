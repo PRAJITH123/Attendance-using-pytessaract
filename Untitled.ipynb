{
 "cells": [
  {
   "cell_type": "code",
   "execution_count": 2,
   "metadata": {},
   "outputs": [],
   "source": [
    "from PIL import Image\n",
    "from openpyxl import Workbook,load_workbook\n",
    "import pytesseract\n",
    "import glob\n",
    "import cv2\n",
    "import os\n",
    "import time\n",
    "import json\n",
    "import datetime\n",
    "import shutil\n",
    "import requests"
   ]
  },
  {
   "cell_type": "code",
   "execution_count": 110,
   "metadata": {},
   "outputs": [],
   "source": [
    "import numpy as np\n",
    "import cv2\n",
    "import matplotlib.pyplot as plt\n",
    "cap = cv2.VideoCapture('/home/prajith_v/Videos/1.mp4')\n",
    "count=0"
   ]
  },
  {
   "cell_type": "code",
   "execution_count": 111,
   "metadata": {},
   "outputs": [],
   "source": [
    "Students = [\"17.Harshit\",\"Prajith\",\"Bharath S\",\"Saikiran K\",\"Pranav Bedre\",\"Sanchit Hegde\",\"Pruthvi P SHivappa\"]\n",
    "present=[]\n",
    "while(cap.isOpened()):\n",
    "    ret, frame = cap.read()\n",
    "    try:\n",
    "        img = Image.fromarray(frame)\n",
    "        width, height = img.size\n",
    "        croppedimage = img.crop((width-500,0,width, height))\n",
    "        text = pytesseract.image_to_string(croppedimage)\n",
    "        text = text.lower()\n",
    "        for student in Students:\n",
    "            if student.lower() in text:\n",
    "                if student not in present:\n",
    "                    present.append(student)\n",
    "\n",
    "    except:\n",
    "         break"
   ]
  },
  {
   "cell_type": "code",
   "execution_count": 112,
   "metadata": {},
   "outputs": [
    {
     "data": {
      "text/plain": [
       "['Prajith', 'Bharath S', 'Pruthvi P SHivappa', 'Saikiran K']"
      ]
     },
     "execution_count": 112,
     "metadata": {},
     "output_type": "execute_result"
    }
   ],
   "source": [
    "present"
   ]
  },
  {
   "cell_type": "code",
   "execution_count": 113,
   "metadata": {},
   "outputs": [],
   "source": [
    "absent=[]\n",
    "for i in Students:\n",
    "    if i not in present:\n",
    "        absent.append(i)"
   ]
  },
  {
   "cell_type": "code",
   "execution_count": 114,
   "metadata": {},
   "outputs": [
    {
     "data": {
      "text/plain": [
       "['17.Harshit', 'Pranav Bedre', 'Sanchit Hegde']"
      ]
     },
     "execution_count": 114,
     "metadata": {},
     "output_type": "execute_result"
    }
   ],
   "source": [
    "absent"
   ]
  },
  {
   "cell_type": "code",
   "execution_count": null,
   "metadata": {},
   "outputs": [],
   "source": []
  },
  {
   "cell_type": "code",
   "execution_count": 133,
   "metadata": {},
   "outputs": [],
   "source": [
    "from PIL import Image\n",
    "import numpy as np\n",
    "import cv2\n",
    "import matplotlib.pyplot as plt\n",
    "cap = cv2.VideoCapture('/home/prajith_v/Videos/1.mp4')\n",
    "count=0\n",
    "while(cap.isOpened()):\n",
    "    ret, frame = cap.read()\n",
    "    if count==0:\n",
    "        img = Image.fromarray(frame)\n",
    "        width, height = img.size\n",
    "        croppedimage = img.crop((width-500,0,width, height))\n",
    "        cv2.imwrite(str(count)+\".jpg\",np.array(croppedimage))\n",
    "        count+=1\n",
    "    else:\n",
    "        break"
   ]
  },
  {
   "cell_type": "code",
   "execution_count": 99,
   "metadata": {},
   "outputs": [
    {
     "ename": "TypeError",
     "evalue": "Expected Ptr<cv::UMat> for argument 'img'",
     "output_type": "error",
     "traceback": [
      "\u001b[0;31m---------------------------------------------------------------------------\u001b[0m",
      "\u001b[0;31mTypeError\u001b[0m                                 Traceback (most recent call last)",
      "\u001b[0;32m<ipython-input-99-71294a9c0f57>\u001b[0m in \u001b[0;36m<module>\u001b[0;34m\u001b[0m\n\u001b[0;32m----> 1\u001b[0;31m \u001b[0mcv2\u001b[0m\u001b[0;34m.\u001b[0m\u001b[0mimwrite\u001b[0m\u001b[0;34m(\u001b[0m\u001b[0mstr\u001b[0m\u001b[0;34m(\u001b[0m\u001b[0mcount\u001b[0m\u001b[0;34m)\u001b[0m\u001b[0;34m+\u001b[0m\u001b[0;34m\".jpg\"\u001b[0m\u001b[0;34m,\u001b[0m\u001b[0mcroppedimage\u001b[0m\u001b[0;34m)\u001b[0m\u001b[0;34m\u001b[0m\u001b[0;34m\u001b[0m\u001b[0m\n\u001b[0m",
      "\u001b[0;31mTypeError\u001b[0m: Expected Ptr<cv::UMat> for argument 'img'"
     ]
    }
   ],
   "source": [
    "cv2.imwrite(str(count)+\".jpg\",croppedimage)"
   ]
  },
  {
   "cell_type": "code",
   "execution_count": 115,
   "metadata": {},
   "outputs": [],
   "source": [
    "import pandas as pd"
   ]
  },
  {
   "cell_type": "code",
   "execution_count": 125,
   "metadata": {},
   "outputs": [],
   "source": [
    "data = pd.read_excel(\"/home/prajith_v/Downloads/Attendance _harsh.xlsx\")"
   ]
  },
  {
   "cell_type": "code",
   "execution_count": 132,
   "metadata": {},
   "outputs": [
    {
     "data": {
      "text/plain": [
       "['Akshar',\n",
       " 'Aman',\n",
       " 'Anagha',\n",
       " 'Vaidya',\n",
       " 'Anurag',\n",
       " 'Aryan',\n",
       " 'Ashwitha',\n",
       " 'Rajesh',\n",
       " 'Bharath',\n",
       " 'Brunda',\n",
       " 'Chaman',\n",
       " 'Deepak',\n",
       " 'Deepthi',\n",
       " 'DILEEP',\n",
       " 'Gowry',\n",
       " 'Harini',\n",
       " 'Harshit',\n",
       " 'Isaaq',\n",
       " 'Mohith',\n",
       " 'Khushi',\n",
       " 'sudeep',\n",
       " 'Manas',\n",
       " 'MUTUM',\n",
       " 'Dhanush',\n",
       " 'Nischitha',\n",
       " 'NISHANT',\n",
       " 'Rashmi',\n",
       " 'Dadhich ',\n",
       " 'Pavitra',\n",
       " 'Prajith',\n",
       " 'Prajwal',\n",
       " 'Pranav',\n",
       " 'Prasanna',\n",
       " 'Preetham',\n",
       " 'Primakov',\n",
       " 'Pruthvi',\n",
       " 'Rakshitha',\n",
       " 'Ramsushil',\n",
       " 'Ranjan',\n",
       " 'Sagar',\n",
       " 'Sagar',\n",
       " 'Saikiran',\n",
       " 'Samanvitha',\n",
       " 'Sanchith',\n",
       " 'Sangamesh',\n",
       " 'Saumya',\n",
       " 'Shashank',\n",
       " 'Shreya',\n",
       " 'Shreya',\n",
       " 'Skanda',\n",
       " 'Suchith',\n",
       " 'Sudhanshu',\n",
       " 'Sumukh',\n",
       " 'Sushmitha',\n",
       " 'Syed',\n",
       " 'UNNAM',\n",
       " 'Varaprasad',\n",
       " 'Vibha',\n",
       " 'Vivek',\n",
       " 'Prahasith',\n",
       " 'Yashas',\n",
       " 'Krupa',\n",
       " 'Preethi',\n",
       " 'chethan',\n",
       " 'Karthik ',\n",
       " 'Kavya ',\n",
       " 'Lakshmi ',\n",
       " 'Nikhil ',\n",
       " 'Prajwal J',\n",
       " 'Praharshita']"
      ]
     },
     "execution_count": 132,
     "metadata": {},
     "output_type": "execute_result"
    }
   ],
   "source": [
    "data[\"Name \"].tolist()"
   ]
  },
  {
   "cell_type": "code",
   "execution_count": 118,
   "metadata": {},
   "outputs": [],
   "source": [
    "d = \"ghfhd jhgk jh\"\n"
   ]
  },
  {
   "cell_type": "code",
   "execution_count": 120,
   "metadata": {},
   "outputs": [
    {
     "data": {
      "text/plain": [
       "'ghfhd jhgk jh'"
      ]
     },
     "execution_count": 120,
     "metadata": {},
     "output_type": "execute_result"
    }
   ],
   "source": [
    "d.strip(\" \",)"
   ]
  },
  {
   "cell_type": "code",
   "execution_count": null,
   "metadata": {},
   "outputs": [],
   "source": []
  }
 ],
 "metadata": {
  "kernelspec": {
   "display_name": "Python 3",
   "language": "python",
   "name": "python3"
  },
  "language_info": {
   "codemirror_mode": {
    "name": "ipython",
    "version": 3
   },
   "file_extension": ".py",
   "mimetype": "text/x-python",
   "name": "python",
   "nbconvert_exporter": "python",
   "pygments_lexer": "ipython3",
   "version": "3.6.9"
  }
 },
 "nbformat": 4,
 "nbformat_minor": 4
}
